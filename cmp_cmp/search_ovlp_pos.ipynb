{
 "cells": [
  {
   "cell_type": "code",
   "execution_count": 9,
   "metadata": {
    "collapsed": false
   },
   "outputs": [],
   "source": [
    "import warnings\n",
    "import pandas as pd\n",
    "import numpy as np\n",
    "import os\n",
    "import operator # sorting\n",
    "from read_trace import *\n",
    "\n",
    "warnings.filterwarnings(\"ignore\", category=np.VisibleDeprecationWarning)"
   ]
  },
  {
   "cell_type": "code",
   "execution_count": 10,
   "metadata": {
    "collapsed": false
   },
   "outputs": [],
   "source": [
    "# ls all the trace files in the targeted folder\n",
    "target_folder = './profile_results'\n",
    "trace_list = []\n",
    "for root, dirs, files in os.walk(target_folder):\n",
    "    for file in files:\n",
    "        if 'trace' in file:\n",
    "            trace_list.append(file)"
   ]
  },
  {
   "cell_type": "code",
   "execution_count": 11,
   "metadata": {
    "collapsed": false
   },
   "outputs": [],
   "source": [
    "# record the overlapping rate for different data size\n",
    "ovlp_dict = {}\n",
    "\n",
    "for item in trace_list:\n",
    "    trace_file = target_folder + \"/\" + item\n",
    "    current_ovlp = check_kernel_ovlprate(trace_file)\n",
    "    # find out the data size\n",
    "    N = item.replace(\"trace_\", \"\").replace(\".csv\",\"\")\n",
    "    ovlp_dict[N] = current_ovlp"
   ]
  },
  {
   "cell_type": "code",
   "execution_count": 12,
   "metadata": {
    "collapsed": false
   },
   "outputs": [],
   "source": [
    "# you don't need to do this step\n",
    "sorted_ovlp_dict = sorted(ovlp_dict.items(), key=operator.itemgetter(1), reverse=True)"
   ]
  },
  {
   "cell_type": "code",
   "execution_count": 13,
   "metadata": {
    "collapsed": false
   },
   "outputs": [
    {
     "data": {
      "text/plain": [
       "[('43600', 0.29550390803894466),\n",
       " ('41000', 0.2867167919807256),\n",
       " ('47200', 0.28508765955020815),\n",
       " ('40000', 0.27719376605172563),\n",
       " ('42400', 0.2693423597680063),\n",
       " ('48200', 0.26353944562891196),\n",
       " ('43000', 0.2555663117131613),\n",
       " ('49400', 0.2530220925385692),\n",
       " ('46800', 0.2445652173901413),\n",
       " ('46400', 0.2394811955578334),\n",
       " ('44200', 0.2357028327107592),\n",
       " ('45600', 0.21514360313351094),\n",
       " ('43800', 0.21355208525926422),\n",
       " ('41400', 0.2134453781515348),\n",
       " ('44000', 0.21151486395832989),\n",
       " ('41800', 0.21111954779220893),\n",
       " ('40200', 0.21049562682092657),\n",
       " ('50200', 0.20506385839133562),\n",
       " ('49600', 0.1972477064211437),\n",
       " ('42600', 0.19562780269047134),\n",
       " ('44600', 0.1898936170199578),\n",
       " ('43400', 0.18654266958362525),\n",
       " ('44800', 0.18630983015900976),\n",
       " ('50600', 0.18607825295779273),\n",
       " ('47400', 0.18588469184923304),\n",
       " ('43200', 0.18431157432828835),\n",
       " ('45400', 0.18319548337065342),\n",
       " ('48400', 0.18163869694055487),\n",
       " ('48600', 0.17939595558279597),\n",
       " ('45200', 0.17509241764612288),\n",
       " ('45000', 0.17088607594902316),\n",
       " ('45800', 0.17015706806114733),\n",
       " ('41600', 0.16982943733519631),\n",
       " ('40400', 0.16956018518678903),\n",
       " ('42200', 0.1679775280889065),\n",
       " ('52000', 0.16736990154756184),\n",
       " ('40800', 0.16656993615604637),\n",
       " ('46000', 0.1623725306655502),\n",
       " ('51200', 0.16196945467479168),\n",
       " ('41200', 0.16138328530262316),\n",
       " ('42000', 0.16071148313091838),\n",
       " ('48800', 0.15644684209773446),\n",
       " ('42800', 0.15294771968959564),\n",
       " ('50400', 0.15292425695002324),\n",
       " ('50000', 0.14875239923343508),\n",
       " ('46600', 0.1474299102410631),\n",
       " ('49800', 0.14684641309453642),\n",
       " ('47800', 0.1466931874695842),\n",
       " ('46200', 0.14579055441337255),\n",
       " ('48000', 0.14243250319511971),\n",
       " ('50800', 0.14078372334386188),\n",
       " ('49000', 0.1370710812322829),\n",
       " ('49200', 0.13642960812700788),\n",
       " ('47600', 0.1252535496948752),\n",
       " ('44400', 0.12194915397798432),\n",
       " ('47000', 0.11528511799850381),\n",
       " ('40600', 0.11276473955544451),\n",
       " ('51600', 0.0829471733098687),\n",
       " ('51400', 0.05402809111344439),\n",
       " ('51000', -0.023099133782282406),\n",
       " ('51800', -0.08217079873340086)]"
      ]
     },
     "execution_count": 13,
     "metadata": {},
     "output_type": "execute_result"
    }
   ],
   "source": [
    "sorted_ovlp_dict"
   ]
  },
  {
   "cell_type": "code",
   "execution_count": 14,
   "metadata": {
    "collapsed": false
   },
   "outputs": [
    {
     "name": "stdout",
     "output_type": "stream",
     "text": [
      "overlapping rate : 0.295503908039 data size : 43600\n",
      "overlapping rate : 0.205063858391 data size : 50200\n",
      "overlapping rate : 0.115285117999 data size : 47000\n"
     ]
    }
   ],
   "source": [
    "# find out the data size for 2 overlapping rates: 0.25, 0.5 and 0.75\n",
    "found_30 = 0\n",
    "found_20 = 0\n",
    "found_10 = 0\n",
    "\n",
    "for key, value in sorted_ovlp_dict:\n",
    "    if (0.29 <= value < 0.30) and found_30 == 0:\n",
    "        print \"overlapping rate : \" + str(value) + \" data size : \" + str(key)\n",
    "        found_30 = 1\n",
    "        \n",
    "    if (0.20 <= value < 0.21) and found_20 == 0:\n",
    "        print \"overlapping rate : \" + str(value) + \" data size : \" + str(key)\n",
    "        found_20 = 1\n",
    "        \n",
    "    if (0.11 <= value < 0.12) and found_10 == 0:\n",
    "        print \"overlapping rate : \" + str(value) + \" data size : \" + str(key)\n",
    "        found_10 = 1"
   ]
  }
 ],
 "metadata": {
  "anaconda-cloud": {},
  "kernelspec": {
   "display_name": "Python [conda root]",
   "language": "python",
   "name": "conda-root-py"
  },
  "language_info": {
   "codemirror_mode": {
    "name": "ipython",
    "version": 2
   },
   "file_extension": ".py",
   "mimetype": "text/x-python",
   "name": "python",
   "nbconvert_exporter": "python",
   "pygments_lexer": "ipython2",
   "version": "2.7.12"
  }
 },
 "nbformat": 4,
 "nbformat_minor": 2
}
