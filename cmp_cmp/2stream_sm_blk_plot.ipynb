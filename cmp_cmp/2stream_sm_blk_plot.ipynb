{
 "cells": [
  {
   "cell_type": "code",
   "execution_count": 41,
   "metadata": {
    "collapsed": true
   },
   "outputs": [],
   "source": [
    "import warnings\n",
    "import pandas as pd\n",
    "import numpy as np\n",
    "import matplotlib.pyplot as plt\n",
    "import operator\n",
    "\n",
    "warnings.filterwarnings(\"ignore\", category=np.VisibleDeprecationWarning)"
   ]
  },
  {
   "cell_type": "code",
   "execution_count": 42,
   "metadata": {
    "collapsed": false
   },
   "outputs": [],
   "source": [
    "# overlapping rate : 0.295503908039 data size : 43600\n",
    "# overlapping rate : 0.205063858391 data size : 50200\n",
    "# overlapping rate : 0.115285117999 data size : 47000\n",
    "\n",
    "# 0.295503908039 \n",
    "#df_trace = pd.read_csv('tmp_43600.csv', engine='python')\n",
    "\n",
    "# 0.115285117999\n",
    "#df_trace = pd.read_csv('tmp_47000.csv', engine='python')\n",
    "\n",
    "# 0.205063858391\n",
    "df_trace = pd.read_csv('tmp_50200.csv', engine='python')\n",
    "\n",
    "\n"
   ]
  },
  {
   "cell_type": "code",
   "execution_count": 43,
   "metadata": {
    "collapsed": false
   },
   "outputs": [],
   "source": [
    "# my_stream_list = []\n",
    "\n",
    "# for index, row in df_trace.iterrows():\n",
    "#     current_stream = row['stream_id']\n",
    "    \n",
    "#     if current_stream not in my_stream_list:\n",
    "#         #print index\n",
    "#         my_stream_list.append(current_stream)\n",
    "        \n",
    "# print my_stream_list "
   ]
  },
  {
   "cell_type": "markdown",
   "metadata": {},
   "source": [
    "### determine the number of streams"
   ]
  },
  {
   "cell_type": "code",
   "execution_count": 44,
   "metadata": {
    "collapsed": false
   },
   "outputs": [],
   "source": [
    "stream_unique = df_trace['stream_id'].unique()"
   ]
  },
  {
   "cell_type": "code",
   "execution_count": 45,
   "metadata": {
    "collapsed": true
   },
   "outputs": [],
   "source": [
    "totalSM = df_trace['sm_id'].unique()"
   ]
  },
  {
   "cell_type": "code",
   "execution_count": 46,
   "metadata": {
    "collapsed": true
   },
   "outputs": [],
   "source": [
    "stream_info_dd = {}"
   ]
  },
  {
   "cell_type": "code",
   "execution_count": 47,
   "metadata": {
    "collapsed": true
   },
   "outputs": [],
   "source": [
    "def SM_blkinfo(df_current_stream):\n",
    "    blocks_unique = df_current_stream['block_id'].unique()\n",
    "    num_blocks = len(blocks_unique)\n",
    "\n",
    "    # get block timing and sm info\n",
    "    df_trace_new = pd.DataFrame(columns=['sm_id', \n",
    "                                         'block_id', \n",
    "                                         'block_start', \n",
    "                                         'block_end'])\n",
    "\n",
    "\n",
    "    for i in blocks_unique:\n",
    "        df_block = df_current_stream.loc[df_current_stream['block_id'] == i]\n",
    "        min_ = min(df_block['start'])\n",
    "        max_ = max(df_block['end'])\n",
    "\n",
    "        reside_sm = df_block['sm_id'].iloc[0]\n",
    "\n",
    "        df_trace_new = df_trace_new.append(\n",
    "            {'sm_id': reside_sm,\n",
    "            'block_id': i,\n",
    "            'block_start': min_,\n",
    "            'block_end': max_}, ignore_index=True)\n",
    "        \n",
    "    \n",
    "    sm_info_dd = {}\n",
    "\n",
    "    sm_unique = df_trace_new['sm_id'].unique()\n",
    "\n",
    "    for i in sm_unique:\n",
    "        df_current = df_trace_new.loc[df_trace_new['sm_id'] == i]\n",
    "        sm_info_dd[i] = df_current\n",
    "        \n",
    "    \n",
    "    return sm_info_dd"
   ]
  },
  {
   "cell_type": "code",
   "execution_count": 48,
   "metadata": {
    "collapsed": false
   },
   "outputs": [],
   "source": [
    "# get stream data\n",
    "stream_info_dd = {}\n",
    "\n",
    "for stream_id in stream_unique:\n",
    "    df_current_stream = df_trace.loc[df_trace['stream_id'] == stream_id]\n",
    "    sm_info_dd = SM_blkinfo(df_current_stream) # block trace for each SM\n",
    "    stream_info_dd[stream_id] = sm_info_dd # SM trace for each stream"
   ]
  },
  {
   "cell_type": "markdown",
   "metadata": {},
   "source": [
    "### plot data for all streams on each SM"
   ]
  },
  {
   "cell_type": "code",
   "execution_count": 49,
   "metadata": {
    "collapsed": false
   },
   "outputs": [],
   "source": [
    "def run_plot(df_s1, df_s2):\n",
    "    import matplotlib.pyplot as plt\n",
    "    \n",
    "    df_s1['y_axis'] = pd.Series(np.arange(1,len(df_s1.index)+1), \n",
    "                                 index=df_s1.index)\n",
    "    \n",
    "    df_s2['y_axis'] = pd.Series(np.arange(1,len(df_s2.index)+1) + 0.1, \n",
    "                                 index=df_s2.index)\n",
    "                                     \n",
    "    x0=df_s1['block_start']\n",
    "    x1=df_s1['block_end']\n",
    "    y0=df_s1['y_axis']\n",
    "                                \n",
    "    x0_=df_s2['block_start']\n",
    "    x1_=df_s2['block_end']\n",
    "    y0_=df_s2['y_axis']\n",
    "\n",
    "    ylim_max = max(df_s1['y_axis']) + 1\n",
    "    axes = plt.gca()\n",
    "    axes.set_ylim([0, ylim_max])\n",
    "\n",
    "    plt.hlines(y0,x0,x1, lw=2, color='r')\n",
    "    plt.hlines(y0_,x0_,x1_, lw=2, color='k')\n",
    "                                \n",
    "#     plt.title('Memory Bound')\n",
    "    plt.xlabel('Time(clocks)')\n",
    "    plt.ylabel('Blocks')\n",
    "    plt.show()\n",
    "\n",
    "    "
   ]
  },
  {
   "cell_type": "code",
   "execution_count": 50,
   "metadata": {
    "collapsed": false
   },
   "outputs": [
    {
     "name": "stdout",
     "output_type": "stream",
     "text": [
      "overlapping on SM 0\n",
      "ovlp ratio : 0.0289674667058\n",
      "sm timing : 1171.860912 - 1172.010361\n"
     ]
    },
    {
     "data": {
      "image/png": "[encoded data removed]",
      "text/plain": [
       "<matplotlib.figure.Figure at 0x7f2af1df2910>"
      ]
     },
     "metadata": {},
     "output_type": "display_data"
    },
    {
     "name": "stdout",
     "output_type": "stream",
     "text": [
      "overlapping on SM 1\n",
      "ovlp ratio : 0.0377714337402\n",
      "sm timing : 2013.033351 - 2013.181692\n"
     ]
    },
    {
     "data": {
      "image/png": "[encoded data removed]",
      "text/plain": [
       "<matplotlib.figure.Figure at 0x7f2af16b1650>"
      ]
     },
     "metadata": {},
     "output_type": "display_data"
    },
    {
     "name": "stdout",
     "output_type": "stream",
     "text": [
      "no overlapping on SM 2\n",
      "overlapping on SM 3\n",
      "ovlp ratio : 0.037922037662\n",
      "sm timing : 2013.033355 - 2013.182631\n"
     ]
    },
    {
     "data": {
      "image/png": "[encoded data removed]",
      "text/plain": [
       "<matplotlib.figure.Figure at 0x7f2af1e30950>"
      ]
     },
     "metadata": {},
     "output_type": "display_data"
    },
    {
     "name": "stdout",
     "output_type": "stream",
     "text": [
      "overlapping on SM 4\n",
      "ovlp ratio : 0.0224653099568\n",
      "sm timing : 1171.860912 - 1172.010223\n"
     ]
    },
    {
     "data": {
      "image/png": "[encoded data removed]",
      "text/plain": [
       "<matplotlib.figure.Figure at 0x7f2af16c0a10>"
      ]
     },
     "metadata": {},
     "output_type": "display_data"
    },
    {
     "name": "stdout",
     "output_type": "stream",
     "text": [
      "overlapping on SM 5\n",
      "ovlp ratio : 0.0345547159553\n",
      "sm timing : 2013.033351 - 2013.18025\n"
     ]
    },
    {
     "data": {
      "image/png": "[encoded data removed]",
      "text/plain": [
       "<matplotlib.figure.Figure at 0x7f2af21330d0>"
      ]
     },
     "metadata": {},
     "output_type": "display_data"
    }
   ],
   "source": [
    "#check whether there is concurrency on each SM for each stream\n",
    "total_stream_num = len(stream_unique)\n",
    "\n",
    "for sm in totalSM:\n",
    "    for stream in stream_unique:\n",
    "        # compare the stream next\n",
    "        if stream + 1 < total_stream_num:\n",
    "            continue_plot = 0\n",
    "            \n",
    "            # check the stream timing on current SM\n",
    "            df_s1 = stream_info_dd[stream][sm]\n",
    "            df_s2 = stream_info_dd[stream+1][sm]\n",
    "            \n",
    "            #print df_s1\n",
    "            #print df_s2\n",
    "            \n",
    "            s1_start = min(df_s1['block_start'])\n",
    "            s1_end = max(df_s1['block_end'])\n",
    "            \n",
    "            s2_start = min(df_s2['block_start'])\n",
    "            s2_end = max(df_s2['block_end'])\n",
    "            \n",
    "            if s1_start <= s2_start <= s1_end:\n",
    "                print \"overlapping on SM \" + str(sm)\n",
    "                print  \"ovlp ratio : \" + str((s1_end  - s2_start) / (s1_end - s1_start))\n",
    "                \n",
    "                print \"sm timing : \" + str(s1_start) + \" - \" + str(s2_end)\n",
    "                \n",
    "                continue_plot = 1\n",
    "            else:\n",
    "                print \"no overlapping on SM \" + str(sm)\n",
    "            \n",
    "            if continue_plot:\n",
    "                run_plot(df_s1, df_s2)\n",
    "        "
   ]
  },
  {
   "cell_type": "code",
   "execution_count": null,
   "metadata": {
    "collapsed": true
   },
   "outputs": [],
   "source": []
  }
 ],
 "metadata": {
  "anaconda-cloud": {},
  "kernelspec": {
   "display_name": "Python [conda root]",
   "language": "python",
   "name": "conda-root-py"
  },
  "language_info": {
   "codemirror_mode": {
    "name": "ipython",
    "version": 2
   },
   "file_extension": ".py",
   "mimetype": "text/x-python",
   "name": "python",
   "nbconvert_exporter": "python",
   "pygments_lexer": "ipython2",
   "version": "2.7.12"
  }
 },
 "nbformat": 4,
 "nbformat_minor": 1
}
