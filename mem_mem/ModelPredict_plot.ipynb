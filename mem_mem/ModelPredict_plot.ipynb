{
 "cells": [
  {
   "cell_type": "code",
   "execution_count": 1,
   "metadata": {
    "collapsed": false
   },
   "outputs": [],
   "source": [
    "import warnings\n",
    "import pandas as pd\n",
    "import numpy as np\n",
    "import matplotlib.pyplot as plt\n",
    "\n",
    "warnings.filterwarnings(\"ignore\", category=np.VisibleDeprecationWarning)"
   ]
  },
  {
   "cell_type": "code",
   "execution_count": 2,
   "metadata": {
    "collapsed": true
   },
   "outputs": [],
   "source": [
    "df_trace = pd.read_csv('model_results.csv')"
   ]
  },
  {
   "cell_type": "code",
   "execution_count": 3,
   "metadata": {
    "collapsed": false
   },
   "outputs": [
    {
     "data": {
      "text/html": [
       "<div>\n",
       "<table border=\"1\" class=\"dataframe\">\n",
       "  <thead>\n",
       "    <tr style=\"text-align: right;\">\n",
       "      <th></th>\n",
       "      <th>datasize</th>\n",
       "      <th>real</th>\n",
       "      <th>model</th>\n",
       "    </tr>\n",
       "  </thead>\n",
       "  <tbody>\n",
       "    <tr>\n",
       "      <th>0</th>\n",
       "      <td>286000.0</td>\n",
       "      <td>1.156777</td>\n",
       "      <td>1.136407</td>\n",
       "    </tr>\n",
       "    <tr>\n",
       "      <th>1</th>\n",
       "      <td>205000.0</td>\n",
       "      <td>0.833447</td>\n",
       "      <td>0.848328</td>\n",
       "    </tr>\n",
       "    <tr>\n",
       "      <th>2</th>\n",
       "      <td>110000.0</td>\n",
       "      <td>0.517124</td>\n",
       "      <td>0.539460</td>\n",
       "    </tr>\n",
       "    <tr>\n",
       "      <th>3</th>\n",
       "      <td>66000.0</td>\n",
       "      <td>0.321763</td>\n",
       "      <td>0.295799</td>\n",
       "    </tr>\n",
       "    <tr>\n",
       "      <th>4</th>\n",
       "      <td>178000.0</td>\n",
       "      <td>0.724230</td>\n",
       "      <td>0.703059</td>\n",
       "    </tr>\n",
       "  </tbody>\n",
       "</table>\n",
       "</div>"
      ],
      "text/plain": [
       "   datasize      real     model\n",
       "0  286000.0  1.156777  1.136407\n",
       "1  205000.0  0.833447  0.848328\n",
       "2  110000.0  0.517124  0.539460\n",
       "3   66000.0  0.321763  0.295799\n",
       "4  178000.0  0.724230  0.703059"
      ]
     },
     "execution_count": 3,
     "metadata": {},
     "output_type": "execute_result"
    }
   ],
   "source": [
    "df_trace.head()"
   ]
  },
  {
   "cell_type": "code",
   "execution_count": 4,
   "metadata": {
    "collapsed": true
   },
   "outputs": [],
   "source": [
    "df_sorted = df_trace.sort_values(['datasize'], ascending=True)"
   ]
  },
  {
   "cell_type": "code",
   "execution_count": 5,
   "metadata": {
    "collapsed": false
   },
   "outputs": [
    {
     "data": {
      "text/html": [
       "<div>\n",
       "<table border=\"1\" class=\"dataframe\">\n",
       "  <thead>\n",
       "    <tr style=\"text-align: right;\">\n",
       "      <th></th>\n",
       "      <th>datasize</th>\n",
       "      <th>real</th>\n",
       "      <th>model</th>\n",
       "    </tr>\n",
       "  </thead>\n",
       "  <tbody>\n",
       "    <tr>\n",
       "      <th>28</th>\n",
       "      <td>13000.0</td>\n",
       "      <td>0.074400</td>\n",
       "      <td>0.056352</td>\n",
       "    </tr>\n",
       "    <tr>\n",
       "      <th>99</th>\n",
       "      <td>14000.0</td>\n",
       "      <td>0.081377</td>\n",
       "      <td>0.062689</td>\n",
       "    </tr>\n",
       "    <tr>\n",
       "      <th>159</th>\n",
       "      <td>15000.0</td>\n",
       "      <td>0.076480</td>\n",
       "      <td>0.066386</td>\n",
       "    </tr>\n",
       "    <tr>\n",
       "      <th>172</th>\n",
       "      <td>16000.0</td>\n",
       "      <td>0.087617</td>\n",
       "      <td>0.068640</td>\n",
       "    </tr>\n",
       "    <tr>\n",
       "      <th>269</th>\n",
       "      <td>19000.0</td>\n",
       "      <td>0.098496</td>\n",
       "      <td>0.099522</td>\n",
       "    </tr>\n",
       "  </tbody>\n",
       "</table>\n",
       "</div>"
      ],
      "text/plain": [
       "     datasize      real     model\n",
       "28    13000.0  0.074400  0.056352\n",
       "99    14000.0  0.081377  0.062689\n",
       "159   15000.0  0.076480  0.066386\n",
       "172   16000.0  0.087617  0.068640\n",
       "269   19000.0  0.098496  0.099522"
      ]
     },
     "execution_count": 5,
     "metadata": {},
     "output_type": "execute_result"
    }
   ],
   "source": [
    "df_sorted.head()"
   ]
  },
  {
   "cell_type": "code",
   "execution_count": 6,
   "metadata": {
    "collapsed": false
   },
   "outputs": [],
   "source": [
    "datasize = []\n",
    "real_ls = []\n",
    "pred_ls = []\n",
    "\n",
    "# select the 1st 10 samples\n",
    "count = 0\n",
    "for index,row in df_sorted.iterrows():\n",
    "    datasize.append(float(row['datasize']))\n",
    "    real_ls.append(float(row['real']))\n",
    "    pred_ls.append(float(row['model']))\n",
    "    \n",
    "    count += 1\n",
    "    if count == 20:\n",
    "        break"
   ]
  },
  {
   "cell_type": "code",
   "execution_count": 7,
   "metadata": {
    "collapsed": false
   },
   "outputs": [
    {
     "name": "stdout",
     "output_type": "stream",
     "text": [
      "13000.0\n",
      "0.0744000000001\n",
      "0.0563519999999\n"
     ]
    }
   ],
   "source": [
    "print datasize[0]\n",
    "print real_ls[0]\n",
    "print pred_ls[0]"
   ]
  },
  {
   "cell_type": "code",
   "execution_count": 14,
   "metadata": {
    "collapsed": false
   },
   "outputs": [
    {
     "data": {
      "image/png": "[encoded data removed]",
      "text/plain": [
       "<matplotlib.figure.Figure at 0x7f7c7023a490>"
      ]
     },
     "metadata": {},
     "output_type": "display_data"
    }
   ],
   "source": [
    "n_groups = len(datasize)\n",
    "\n",
    "# create plot\n",
    "fig, ax = plt.subplots()\n",
    "index = np.arange(n_groups)\n",
    "bar_width = 0.3\n",
    "opacity = 0.8\n",
    "\n",
    "bar1 = plt.bar(index, real_ls, bar_width, alpha=opacity, color='b', label='Real')\n",
    "bar2 = plt.bar(index + bar_width, pred_ls, bar_width, alpha=opacity, color='g', label='Pred')\n",
    "\n",
    "plt.tick_params(\n",
    "    axis='x',          # changes apply to the x-axis\n",
    "    which='both',      # both major and minor ticks are affected\n",
    "    bottom='off',      # ticks along the bottom edge are off\n",
    "    top='off',         # ticks along the top edge are off\n",
    "    labelbottom='off') # labels along the bottom edge are off\n",
    "\n",
    "\n",
    "plt.xlabel('Test Cases')\n",
    "plt.ylabel('Runtime (ms)')\n",
    "plt.title('Compare Model Predicted Runtime with Real Runtime for Two CKE')\n",
    "\n",
    "plt.legend(prop={'size':9})\n",
    " \n",
    "plt.tight_layout()\n",
    "plt.show()"
   ]
  },
  {
   "cell_type": "markdown",
   "metadata": {},
   "source": [
    "### compute the error rate"
   ]
  },
  {
   "cell_type": "code",
   "execution_count": 9,
   "metadata": {
    "collapsed": false
   },
   "outputs": [
    {
     "data": {
      "text/html": [
       "<div>\n",
       "<table border=\"1\" class=\"dataframe\">\n",
       "  <thead>\n",
       "    <tr style=\"text-align: right;\">\n",
       "      <th></th>\n",
       "      <th>datasize</th>\n",
       "      <th>real</th>\n",
       "      <th>model</th>\n",
       "    </tr>\n",
       "  </thead>\n",
       "  <tbody>\n",
       "    <tr>\n",
       "      <th>28</th>\n",
       "      <td>13000.0</td>\n",
       "      <td>0.074400</td>\n",
       "      <td>0.056352</td>\n",
       "    </tr>\n",
       "    <tr>\n",
       "      <th>99</th>\n",
       "      <td>14000.0</td>\n",
       "      <td>0.081377</td>\n",
       "      <td>0.062689</td>\n",
       "    </tr>\n",
       "    <tr>\n",
       "      <th>159</th>\n",
       "      <td>15000.0</td>\n",
       "      <td>0.076480</td>\n",
       "      <td>0.066386</td>\n",
       "    </tr>\n",
       "    <tr>\n",
       "      <th>172</th>\n",
       "      <td>16000.0</td>\n",
       "      <td>0.087617</td>\n",
       "      <td>0.068640</td>\n",
       "    </tr>\n",
       "    <tr>\n",
       "      <th>269</th>\n",
       "      <td>19000.0</td>\n",
       "      <td>0.098496</td>\n",
       "      <td>0.099522</td>\n",
       "    </tr>\n",
       "  </tbody>\n",
       "</table>\n",
       "</div>"
      ],
      "text/plain": [
       "     datasize      real     model\n",
       "28    13000.0  0.074400  0.056352\n",
       "99    14000.0  0.081377  0.062689\n",
       "159   15000.0  0.076480  0.066386\n",
       "172   16000.0  0.087617  0.068640\n",
       "269   19000.0  0.098496  0.099522"
      ]
     },
     "execution_count": 9,
     "metadata": {},
     "output_type": "execute_result"
    }
   ],
   "source": [
    "df_sorted.head()"
   ]
  },
  {
   "cell_type": "code",
   "execution_count": 10,
   "metadata": {
    "collapsed": true
   },
   "outputs": [],
   "source": [
    "# df_sorted['diff'] = df_sorted['real'] - df_sorted['model']\n",
    "df_sorted['error'] = abs(df_sorted['real'] - df_sorted['model'] )/ df_sorted['real'] "
   ]
  },
  {
   "cell_type": "code",
   "execution_count": 11,
   "metadata": {
    "collapsed": false
   },
   "outputs": [
    {
     "data": {
      "text/html": [
       "<div>\n",
       "<table border=\"1\" class=\"dataframe\">\n",
       "  <thead>\n",
       "    <tr style=\"text-align: right;\">\n",
       "      <th></th>\n",
       "      <th>datasize</th>\n",
       "      <th>real</th>\n",
       "      <th>model</th>\n",
       "      <th>error</th>\n",
       "    </tr>\n",
       "  </thead>\n",
       "  <tbody>\n",
       "    <tr>\n",
       "      <th>28</th>\n",
       "      <td>13000.0</td>\n",
       "      <td>0.074400</td>\n",
       "      <td>0.056352</td>\n",
       "      <td>0.242581</td>\n",
       "    </tr>\n",
       "    <tr>\n",
       "      <th>99</th>\n",
       "      <td>14000.0</td>\n",
       "      <td>0.081377</td>\n",
       "      <td>0.062689</td>\n",
       "      <td>0.229641</td>\n",
       "    </tr>\n",
       "    <tr>\n",
       "      <th>159</th>\n",
       "      <td>15000.0</td>\n",
       "      <td>0.076480</td>\n",
       "      <td>0.066386</td>\n",
       "      <td>0.131989</td>\n",
       "    </tr>\n",
       "    <tr>\n",
       "      <th>172</th>\n",
       "      <td>16000.0</td>\n",
       "      <td>0.087617</td>\n",
       "      <td>0.068640</td>\n",
       "      <td>0.216590</td>\n",
       "    </tr>\n",
       "    <tr>\n",
       "      <th>269</th>\n",
       "      <td>19000.0</td>\n",
       "      <td>0.098496</td>\n",
       "      <td>0.099522</td>\n",
       "      <td>0.010417</td>\n",
       "    </tr>\n",
       "  </tbody>\n",
       "</table>\n",
       "</div>"
      ],
      "text/plain": [
       "     datasize      real     model     error\n",
       "28    13000.0  0.074400  0.056352  0.242581\n",
       "99    14000.0  0.081377  0.062689  0.229641\n",
       "159   15000.0  0.076480  0.066386  0.131989\n",
       "172   16000.0  0.087617  0.068640  0.216590\n",
       "269   19000.0  0.098496  0.099522  0.010417"
      ]
     },
     "execution_count": 11,
     "metadata": {},
     "output_type": "execute_result"
    }
   ],
   "source": [
    "df_sorted.head()"
   ]
  },
  {
   "cell_type": "code",
   "execution_count": 12,
   "metadata": {
    "collapsed": false
   },
   "outputs": [
    {
     "data": {
      "text/plain": [
       "0.03629811183889702"
      ]
     },
     "execution_count": 12,
     "metadata": {},
     "output_type": "execute_result"
    }
   ],
   "source": [
    "df_sorted['error'].mean()"
   ]
  },
  {
   "cell_type": "code",
   "execution_count": 13,
   "metadata": {
    "collapsed": false
   },
   "outputs": [
    {
     "data": {
      "text/plain": [
       "0.04613767554272399"
      ]
     },
     "execution_count": 13,
     "metadata": {},
     "output_type": "execute_result"
    }
   ],
   "source": [
    "df_sorted['error'].std()"
   ]
  },
  {
   "cell_type": "code",
   "execution_count": 15,
   "metadata": {
    "collapsed": false
   },
   "outputs": [
    {
     "data": {
      "text/plain": [
       "(285, 4)"
      ]
     },
     "execution_count": 15,
     "metadata": {},
     "output_type": "execute_result"
    }
   ],
   "source": [
    "df_sorted.shape"
   ]
  }
 ],
 "metadata": {
  "kernelspec": {
   "display_name": "Python [conda root]",
   "language": "python",
   "name": "conda-root-py"
  },
  "language_info": {
   "codemirror_mode": {
    "name": "ipython",
    "version": 2
   },
   "file_extension": ".py",
   "mimetype": "text/x-python",
   "name": "python",
   "nbconvert_exporter": "python",
   "pygments_lexer": "ipython2",
   "version": "2.7.13"
  }
 },
 "nbformat": 4,
 "nbformat_minor": 2
}
