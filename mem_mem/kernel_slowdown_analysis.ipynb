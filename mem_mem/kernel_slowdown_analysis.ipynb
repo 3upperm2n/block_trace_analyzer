{
 "cells": [
  {
   "cell_type": "code",
   "execution_count": 24,
   "metadata": {
    "collapsed": true
   },
   "outputs": [],
   "source": [
    "import warnings\n",
    "import pandas as pd\n",
    "import numpy as np\n",
    "import os\n",
    "import operator # sorting\n",
    "from read_trace import *\n",
    "\n",
    "import matplotlib.pyplot as plt\n",
    "\n",
    "warnings.filterwarnings(\"ignore\", category=np.VisibleDeprecationWarning)"
   ]
  },
  {
   "cell_type": "markdown",
   "metadata": {},
   "source": [
    "### read two concurrent kernel trace"
   ]
  },
  {
   "cell_type": "code",
   "execution_count": 25,
   "metadata": {
    "collapsed": false
   },
   "outputs": [],
   "source": [
    "# ls all the trace files in the targeted folder: two streams\n",
    "target_folder = './profile_results'\n",
    "trace_list = []\n",
    "for root, dirs, files in os.walk(target_folder):\n",
    "    for file in files:\n",
    "        if 'trace' in file:\n",
    "            trace_list.append(file)\n",
    "            \n",
    "            \n",
    "# record the overlapping rate for different data size\n",
    "ovlp_dict = {}\n",
    "\n",
    "for item in trace_list:\n",
    "    trace_file = target_folder + \"/\" + item\n",
    "    current_ovlp = check_kernel_ovlprate(trace_file)\n",
    "    # find out the data size\n",
    "    N = item.replace(\"trace_\", \"\").replace(\".csv\",\"\")\n",
    "    ovlp_dict[N] = current_ovlp\n",
    "    \n",
    "# sort the dd : the results is a list of tuple\n",
    "sorted_ovlp_dict = sorted(ovlp_dict.items(), key=operator.itemgetter(1), reverse=True)"
   ]
  },
  {
   "cell_type": "code",
   "execution_count": 26,
   "metadata": {
    "collapsed": false
   },
   "outputs": [
    {
     "data": {
      "text/plain": [
       "[('23000', 0.4910424068328853),\n",
       " ('13000', 0.4844818516560228),\n",
       " ('15000', 0.48133918770516604)]"
      ]
     },
     "execution_count": 26,
     "metadata": {},
     "output_type": "execute_result"
    }
   ],
   "source": [
    "sorted_ovlp_dict[0:3]"
   ]
  },
  {
   "cell_type": "code",
   "execution_count": 27,
   "metadata": {
    "collapsed": false
   },
   "outputs": [
    {
     "data": {
      "text/plain": [
       "[('293000', 0.03779421720792984),\n",
       " ('12000', -0.20098877522286235),\n",
       " ('17000', -0.5134685199684521),\n",
       " ('21000', -0.5675193337274169),\n",
       " ('18000', -0.7712761471005442)]"
      ]
     },
     "execution_count": 27,
     "metadata": {},
     "output_type": "execute_result"
    }
   ],
   "source": [
    "sorted_ovlp_dict[-5:]"
   ]
  },
  {
   "cell_type": "code",
   "execution_count": 28,
   "metadata": {
    "collapsed": false
   },
   "outputs": [
    {
     "name": "stdout",
     "output_type": "stream",
     "text": [
      "0.491\n"
     ]
    }
   ],
   "source": [
    "max_ovlp = sorted_ovlp_dict[0][1]\n",
    "max_ovlp = round(max_ovlp, 3) \n",
    "print max_ovlp"
   ]
  },
  {
   "cell_type": "code",
   "execution_count": 29,
   "metadata": {
    "collapsed": false
   },
   "outputs": [
    {
     "name": "stdout",
     "output_type": "stream",
     "text": [
      "0.038\n"
     ]
    }
   ],
   "source": [
    "min_ovlp = 0\n",
    "\n",
    "for i in range(1, len(sorted_ovlp_dict)):\n",
    "    current_ovlp = sorted_ovlp_dict[-i][1]\n",
    "    if current_ovlp > 0:\n",
    "        min_ovlp = current_ovlp\n",
    "        break\n",
    "        \n",
    "min_ovlp = round(min_ovlp, 3) \n",
    "print min_ovlp"
   ]
  },
  {
   "cell_type": "markdown",
   "metadata": {},
   "source": [
    "### iterate through the ovlp dd, record the kernel slowdown ratio"
   ]
  },
  {
   "cell_type": "code",
   "execution_count": 30,
   "metadata": {
    "collapsed": false
   },
   "outputs": [],
   "source": [
    "data_size_ls = []\n",
    "ovlp_rate_ls = []\n",
    "slowdown_ls = []\n",
    "\n",
    "for item in sorted_ovlp_dict:\n",
    "    data_size = str(item[0])     # string\n",
    "    ovlp_rate = float(item[1])\n",
    "    \n",
    "    if ovlp_rate > 0:\n",
    "        # trace file for current data size\n",
    "        s1_trace_file = 'profile_results_s1/trace_' + data_size + '.csv'\n",
    "        s2_trace_file = 'profile_results/trace_' + data_size + '.csv'\n",
    "\n",
    "        #print s1_trace_file\n",
    "        #print s2_trace_file\n",
    "\n",
    "        # find out single stream kernel runtime\n",
    "        df_current = trace2dataframe(s1_trace_file)\n",
    "        s1_kernel_dd = get_kernel_time_from_trace(df_current)\n",
    "\n",
    "        # find out two stream kernel runtime\n",
    "        df_current = trace2dataframe(s2_trace_file)\n",
    "        s2_kernel_dd = get_kernel_time_from_trace(df_current)\n",
    "\n",
    "        slow_down_ratio_list = kernel_slowdown(s1_kernel_dd, s2_kernel_dd)\n",
    "\n",
    "        #print slow_down_ratio_list\n",
    "\n",
    "        # update the list\n",
    "        data_size_ls.append(data_size)\n",
    "        ovlp_rate_ls.append(ovlp_rate)\n",
    "        slowdown_ls.append(slow_down_ratio_list)"
   ]
  },
  {
   "cell_type": "code",
   "execution_count": 31,
   "metadata": {
    "collapsed": false
   },
   "outputs": [
    {
     "data": {
      "text/plain": [
       "['23000', '13000', '15000']"
      ]
     },
     "execution_count": 31,
     "metadata": {},
     "output_type": "execute_result"
    }
   ],
   "source": [
    "data_size_ls[:3]"
   ]
  },
  {
   "cell_type": "code",
   "execution_count": 32,
   "metadata": {
    "collapsed": false
   },
   "outputs": [
    {
     "data": {
      "text/plain": [
       "[0.4910424068328853, 0.4844818516560228, 0.48133918770516604]"
      ]
     },
     "execution_count": 32,
     "metadata": {},
     "output_type": "execute_result"
    }
   ],
   "source": [
    "ovlp_rate_ls[0:3]"
   ]
  },
  {
   "cell_type": "code",
   "execution_count": 33,
   "metadata": {
    "collapsed": false
   },
   "outputs": [
    {
     "data": {
      "text/plain": [
       "[[1.0833497117400006, 1.2945492662466183],\n",
       " [1.6192504258960279, 1.1456558773440018],\n",
       " [1.3173961181282048, 1.044806471292562]]"
      ]
     },
     "execution_count": 33,
     "metadata": {},
     "output_type": "execute_result"
    }
   ],
   "source": [
    "slowdown_ls[0:3]"
   ]
  },
  {
   "cell_type": "markdown",
   "metadata": {},
   "source": [
    "### plot figure : kernel slown  vs overlapping_rate"
   ]
  },
  {
   "cell_type": "code",
   "execution_count": 34,
   "metadata": {
    "collapsed": false
   },
   "outputs": [
    {
     "name": "stdout",
     "output_type": "stream",
     "text": [
      "285\n"
     ]
    }
   ],
   "source": [
    "print len(ovlp_rate_ls)"
   ]
  },
  {
   "cell_type": "code",
   "execution_count": 35,
   "metadata": {
    "collapsed": false
   },
   "outputs": [],
   "source": [
    "s1_kernel_slowndown = []\n",
    "s2_kernel_slowndown = []\n",
    "\n",
    "for item in slowdown_ls:\n",
    "    s1_kernel_slowndown.append(item[0])\n",
    "    s2_kernel_slowndown.append(item[1])"
   ]
  },
  {
   "cell_type": "code",
   "execution_count": 36,
   "metadata": {
    "collapsed": false
   },
   "outputs": [
    {
     "name": "stdout",
     "output_type": "stream",
     "text": [
      "1.08334971174\n",
      "1.29454926625\n"
     ]
    }
   ],
   "source": [
    "print s1_kernel_slowndown[0]\n",
    "print s2_kernel_slowndown[0]"
   ]
  },
  {
   "cell_type": "code",
   "execution_count": 37,
   "metadata": {
    "collapsed": false
   },
   "outputs": [
    {
     "data": {
      "image/png": "[encoded data removed]",
      "text/plain": [
       "<matplotlib.figure.Figure at 0x7feeb1fca8d0>"
      ]
     },
     "metadata": {},
     "output_type": "display_data"
    }
   ],
   "source": [
    "n_groups = len(ovlp_rate_ls)\n",
    "#s1_kernel_slowndown\n",
    "#s2_kernel_slowndown\n",
    "\n",
    "# create plot\n",
    "fig, ax = plt.subplots()\n",
    "index = np.arange(n_groups)\n",
    "bar_width = 0.05\n",
    "opacity = 0.8\n",
    "\n",
    "# kernel 1\n",
    "rects1 = plt.bar(index, s1_kernel_slowndown, bar_width,\n",
    "                 alpha=opacity,\n",
    "                 color='b',\n",
    "                 label='Kernel-0')\n",
    " \n",
    "# kernel 2\n",
    "rects2 = plt.bar(index + bar_width, s2_kernel_slowndown, bar_width,\n",
    "                 alpha=opacity,\n",
    "                 color='g',\n",
    "                 label='Kernel-1')\n",
    "\n",
    "# annotate the overlapping range\n",
    "xlabel_note = 'Overlapping Rate (' + str(max_ovlp) + '-' + str(min_ovlp) + ')' \n",
    "plt.xlabel(xlabel_note)\n",
    "\n",
    "plt.ylabel('Slowdown Ratio')\n",
    "plt.title('Kernel Slowdown Ratio Affected by Concurrent Execution')\n",
    "\n",
    "#plt.xticks(index + bar_width, ovlp_rate_ls)\n",
    "# turn off the ticks\n",
    "plt.tick_params(\n",
    "    axis='x',          # changes apply to the x-axis\n",
    "    which='both',      # both major and minor ticks are affected\n",
    "    bottom='off',      # ticks along the bottom edge are off\n",
    "    top='off',         # ticks along the top edge are off\n",
    "    labelbottom='off') # labels along the bottom edge are off\n",
    "\n",
    "\n",
    "plt.legend(prop={'size':9})\n",
    "\n",
    "\n",
    "plt.tight_layout()\n",
    "plt.show()"
   ]
  },
  {
   "cell_type": "markdown",
   "metadata": {},
   "source": [
    "### pick 10 points among the list"
   ]
  },
  {
   "cell_type": "raw",
   "metadata": {},
   "source": [
    "data_size_ls\n",
    "ovlp_rate_ls\n",
    "slowdown_ls"
   ]
  },
  {
   "cell_type": "code",
   "execution_count": 38,
   "metadata": {
    "collapsed": false
   },
   "outputs": [
    {
     "data": {
      "text/plain": [
       "[0.4910424068328853,\n",
       " 0.4844818516560228,\n",
       " 0.48133918770516604,\n",
       " 0.480318791226974,\n",
       " 0.4784069018877757]"
      ]
     },
     "execution_count": 38,
     "metadata": {},
     "output_type": "execute_result"
    }
   ],
   "source": [
    "ovlp_rate_ls[0:5]"
   ]
  },
  {
   "cell_type": "code",
   "execution_count": 39,
   "metadata": {
    "collapsed": false
   },
   "outputs": [
    {
     "data": {
      "text/plain": [
       "[[1.0833497117400006, 1.2945492662466183],\n",
       " [1.6192504258960279, 1.1456558773440018],\n",
       " [1.3173961181282048, 1.044806471292562],\n",
       " [1.1440708486109004, 1.367224332110451],\n",
       " [1.2066314367450417, 1.3884496185626074]]"
      ]
     },
     "execution_count": 39,
     "metadata": {},
     "output_type": "execute_result"
    }
   ],
   "source": [
    "slowdown_ls[0:5]"
   ]
  },
  {
   "cell_type": "code",
   "execution_count": 40,
   "metadata": {
    "collapsed": false
   },
   "outputs": [
    {
     "name": "stdout",
     "output_type": "stream",
     "text": [
      "0.491\n",
      "0.038\n"
     ]
    }
   ],
   "source": [
    "print max_ovlp\n",
    "print min_ovlp"
   ]
  },
  {
   "cell_type": "code",
   "execution_count": 41,
   "metadata": {
    "collapsed": true
   },
   "outputs": [],
   "source": [
    "from math import *\n",
    "\n",
    "def find_10_pos(N):\n",
    "    step_size = N / 10.\n",
    "    pos_list = []\n",
    "    current_pos = 0\n",
    "    for i in xrange(10):\n",
    "        current_pos = floor(current_pos + step_size)\n",
    "        pos_list.append(current_pos)\n",
    "    return pos_list\n",
    "\n",
    "def find_5_pos(N):\n",
    "    step_size = N / 5.\n",
    "    pos_list = []\n",
    "    current_pos = 0\n",
    "    for i in xrange(5):\n",
    "        current_pos = floor(current_pos + step_size)\n",
    "        pos_list.append(current_pos)\n",
    "    return pos_list\n"
   ]
  },
  {
   "cell_type": "code",
   "execution_count": 42,
   "metadata": {
    "collapsed": true
   },
   "outputs": [],
   "source": [
    "def find_closet_value_pos(ovlp_rate_ls, value):\n",
    "    \"\"\"\n",
    "    Iterate through the list to find the position of the value\n",
    "    \"\"\"\n",
    "    pos = 0\n",
    "    min_diff = fabs(value - ovlp_rate_ls[0]) \n",
    "    \n",
    "    for i in xrange(1, len(ovlp_rate_ls)):\n",
    "        cur_diff = fabs(value - ovlp_rate_ls[i])\n",
    "        if cur_diff < min_diff:\n",
    "            min_diff = cur_diff\n",
    "            pos = i\n",
    "    return pos\n",
    "\n",
    "def find_10_pos_by_range(max_val, min_val, ovlp_rate_ls):\n",
    "    \"\"\"\n",
    "    Go downwards from the ovlp_rate_ls, look for indices of 10 data points to plot.\n",
    "    \"\"\"\n",
    "    step_size = (max_val - min_val) * 0.1\n",
    "    \n",
    "    pos_list = [0] # the 1st in the list\n",
    "    current_value = ovlp_rate_ls[0]\n",
    "    \n",
    "    # there are 9 left\n",
    "    for i in xrange(9):\n",
    "        current_value = current_value - step_size\n",
    "        # find the nearest value index\n",
    "        current_value_ind = find_closet_value_pos(ovlp_rate_ls, current_value)\n",
    "        # update to the pos list\n",
    "        pos_list.append(current_value_ind)\n",
    "        \n",
    "    return pos_list\n",
    "\n",
    "def find_5_pos_by_range(max_val, min_val, ovlp_rate_ls):\n",
    "    \"\"\"\n",
    "    Go downwards from the ovlp_rate_ls, look for indices of 10 data points to plot.\n",
    "    \"\"\"\n",
    "    step_size = (max_val - min_val) * 0.2\n",
    "    \n",
    "    pos_list = [0] # the 1st in the list\n",
    "    current_value = ovlp_rate_ls[0]\n",
    "    \n",
    "    # there are 4 left\n",
    "    for i in xrange(4):\n",
    "        current_value = current_value - step_size\n",
    "        # find the nearest value index\n",
    "        current_value_ind = find_closet_value_pos(ovlp_rate_ls, current_value)\n",
    "        # update to the pos list\n",
    "        pos_list.append(current_value_ind)\n",
    "        \n",
    "    return pos_list\n"
   ]
  },
  {
   "cell_type": "code",
   "execution_count": 43,
   "metadata": {
    "collapsed": false
   },
   "outputs": [],
   "source": [
    "total_samples = len(ovlp_rate_ls)\n",
    "\n",
    "target_pos = None\n",
    "\n",
    "if total_samples > 10:\n",
    "    target_pos = find_10_pos_by_range(max_ovlp, min_ovlp, ovlp_rate_ls)\n",
    "    \n",
    "elif total_samples > 5:\n",
    "    target_pos = find_5_pos_by_range(max_ovlp, min_ovlp, ovlp_rate_ls)\n",
    "else:\n",
    "    print(\"Not engough data!\")"
   ]
  },
  {
   "cell_type": "code",
   "execution_count": 44,
   "metadata": {
    "collapsed": false
   },
   "outputs": [
    {
     "data": {
      "text/plain": [
       "[0, 5, 7, 8, 19, 20, 31, 42, 69, 119]"
      ]
     },
     "execution_count": 44,
     "metadata": {},
     "output_type": "execute_result"
    }
   ],
   "source": [
    "# print target_pos\n",
    "target_pos"
   ]
  },
  {
   "cell_type": "code",
   "execution_count": 45,
   "metadata": {
    "collapsed": false
   },
   "outputs": [
    {
     "name": "stdout",
     "output_type": "stream",
     "text": [
      "[0.491, 0.442, 0.413, 0.353, 0.32, 0.267, 0.232, 0.174, 0.128, 0.083]\n"
     ]
    }
   ],
   "source": [
    "ovlp_rate_ls_2plot = []\n",
    "\n",
    "s1_kernel_slowndown_2plot = []\n",
    "s2_kernel_slowndown_2plot = []\n",
    "\n",
    "for item in target_pos:\n",
    "    pos = int(item)\n",
    "    current_ovlp = ovlp_rate_ls[pos]\n",
    "    s1_sd = s1_kernel_slowndown[pos]\n",
    "    s2_sd = s2_kernel_slowndown[pos]\n",
    "    \n",
    "    # add to plot list\n",
    "    ovlp_rate_ls_2plot.append(current_ovlp)\n",
    "    s1_kernel_slowndown_2plot.append(s1_sd)\n",
    "    s2_kernel_slowndown_2plot.append(s2_sd)\n",
    "    \n",
    "# print ovlp_rate_ls_2plot\n",
    "\n",
    "# round to 3 decimal\n",
    "ovlp_rate_ls_2plot_rnd = [round(x, 3) for x in ovlp_rate_ls_2plot]\n",
    "print ovlp_rate_ls_2plot_rnd"
   ]
  },
  {
   "cell_type": "code",
   "execution_count": 46,
   "metadata": {
    "collapsed": false
   },
   "outputs": [
    {
     "data": {
      "image/png": "[encoded data removed]",
      "text/plain": [
       "<matplotlib.figure.Figure at 0x7feeb11f5210>"
      ]
     },
     "metadata": {},
     "output_type": "display_data"
    }
   ],
   "source": [
    "n_groups = len(ovlp_rate_ls_2plot_rnd)\n",
    "\n",
    "# create plot\n",
    "fig, ax = plt.subplots()\n",
    "index = np.arange(n_groups)\n",
    "bar_width = 0.3\n",
    "opacity = 0.8\n",
    "\n",
    "# kernel 1\n",
    "rects1 = plt.bar(index, s1_kernel_slowndown_2plot, bar_width,\n",
    "                 alpha=opacity,\n",
    "                 color='b',\n",
    "                 label='Kernel-0')\n",
    " \n",
    "# kernel 2\n",
    "rects2 = plt.bar(index + bar_width, s2_kernel_slowndown_2plot, bar_width,\n",
    "                 alpha=opacity,\n",
    "                 color='g',\n",
    "                 label='Kernel-1')\n",
    "\n",
    "\n",
    "plt.xlabel('Overlapping Rate')\n",
    "plt.ylabel('Slowdown Ratio')\n",
    "plt.title('Kernel Slowdown Ratio Affected by Concurrent Execution')\n",
    "\n",
    "#plt.xticks(index + bar_width, ovlp_rate_ls_2plot)\n",
    "plt.xticks(index + bar_width, ovlp_rate_ls_2plot_rnd, rotation=30)\n",
    "\n",
    "plt.legend(prop={'size':9})\n",
    " \n",
    "plt.tight_layout()\n",
    "plt.show()"
   ]
  }
 ],
 "metadata": {
  "anaconda-cloud": {},
  "kernelspec": {
   "display_name": "Python [conda root]",
   "language": "python",
   "name": "conda-root-py"
  },
  "language_info": {
   "codemirror_mode": {
    "name": "ipython",
    "version": 2
   },
   "file_extension": ".py",
   "mimetype": "text/x-python",
   "name": "python",
   "nbconvert_exporter": "python",
   "pygments_lexer": "ipython2",
   "version": "2.7.13"
  }
 },
 "nbformat": 4,
 "nbformat_minor": 1
}
